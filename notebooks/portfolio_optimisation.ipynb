{
 "cells": [
  {
   "cell_type": "code",
   "execution_count": 1,
   "id": "1c81dcf7-22a4-4a21-9aed-806896deed2c",
   "metadata": {},
   "outputs": [],
   "source": [
    "import numpy as np\n",
    "import pandas as pd \n",
    "pd.set_option('display.max_columns', None)\n",
    "from typing import Dict"
   ]
  },
  {
   "cell_type": "code",
   "execution_count": null,
   "id": "31e5b38d-99c8-40e8-acfc-570ac1befaa4",
   "metadata": {},
   "outputs": [],
   "source": [
    "class Portfolio():\n",
    "    def __init__(self, filepath: str, factor: float, ratio: float, size: int, starting_valuation: int):\n",
    "        self.filepath = filepath\n",
    "        self.factor = factor\n",
    "        self.ratio = ratio\n",
    "        self.size = size\n",
    "        self.starting_valuation = starting_valuation\n",
    "    \n",
    "    def clean_data(self, df: pd.DataFrame) -> pd.DataFrame:\n",
    "        # select required months\n",
    "        df = df[[\"DateYYYYMM\", \"ws_id\", \"Price\", \"Div\", self.factor, \"mktcap\", \"median_volume_usd\"]]\n",
    "        df = df.rename(columns={\"DateYYYYMM\": \"date\", \"ws_id\":\"asset\", \"Price\":\"price\", \"Div\":\"div\",\n",
    "                                self.factor:\"factor\"})\n",
    "        # Correct datetime \n",
    "        df['date'] = pd.to_datetime(df['date'], format = \"%Y%m\")\n",
    "        # Change units for dollar valued data\n",
    "        df['mktcap'] = df['mktcap'] *1000000\n",
    "        df['median_volume_usd'] = df['median_volume_usd'] *1000000\n",
    "        return df\n",
    "    \n",
    "    def read_data(self):\n",
    "        df = pd.read_parquet(filepath, engine = 'pyarrow')\n",
    "        \n",
    "        "
   ]
  }
 ],
 "metadata": {
  "kernelspec": {
   "display_name": "Python 3 (ipykernel)",
   "language": "python",
   "name": "python3"
  },
  "language_info": {
   "codemirror_mode": {
    "name": "ipython",
    "version": 3
   },
   "file_extension": ".py",
   "mimetype": "text/x-python",
   "name": "python",
   "nbconvert_exporter": "python",
   "pygments_lexer": "ipython3",
   "version": "3.9.2"
  }
 },
 "nbformat": 4,
 "nbformat_minor": 5
}
